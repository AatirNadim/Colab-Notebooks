{
  "nbformat": 4,
  "nbformat_minor": 0,
  "metadata": {
    "colab": {
      "name": "Handwritten Digit Recognition Using SVM.ipynb",
      "provenance": [],
      "collapsed_sections": [],
      "authorship_tag": "ABX9TyMz35q6WFZ90kMRTuqfTHfu",
      "include_colab_link": true
    },
    "kernelspec": {
      "name": "python3",
      "display_name": "Python 3"
    },
    "language_info": {
      "name": "python"
    }
  },
  "cells": [
    {
      "cell_type": "markdown",
      "metadata": {
        "id": "view-in-github",
        "colab_type": "text"
      },
      "source": [
        "<a href=\"https://colab.research.google.com/github/AatirNadim/Colab-Notebooks/blob/main/Handwritten_Digit_Recognition_Using_SVM.ipynb\" target=\"_parent\"><img src=\"https://colab.research.google.com/assets/colab-badge.svg\" alt=\"Open In Colab\"/></a>"
      ]
    },
    {
      "cell_type": "code",
      "metadata": {
        "id": "peWOdBvJkEnh"
      },
      "source": [
        "import pandas as pd\n",
        "import numpy as np\n",
        "import matplotlib.pyplot as plt\n"
      ],
      "execution_count": null,
      "outputs": []
    },
    {
      "cell_type": "code",
      "metadata": {
        "id": "R-YfQpgOkFuO"
      },
      "source": [
        "from sklearn.datasets import load_digits"
      ],
      "execution_count": null,
      "outputs": []
    },
    {
      "cell_type": "code",
      "metadata": {
        "id": "q-i83u8JkFno"
      },
      "source": [
        "df=load_digits()"
      ],
      "execution_count": null,
      "outputs": []
    },
    {
      "cell_type": "code",
      "metadata": {
        "id": "cdDcjzyQkFj-",
        "colab": {
          "base_uri": "https://localhost:8080/"
        },
        "outputId": "c568ffeb-270d-49e1-a287-f794eaef2418"
      },
      "source": [
        "df"
      ],
      "execution_count": null,
      "outputs": [
        {
          "output_type": "execute_result",
          "data": {
            "text/plain": [
              "{'DESCR': \".. _digits_dataset:\\n\\nOptical recognition of handwritten digits dataset\\n--------------------------------------------------\\n\\n**Data Set Characteristics:**\\n\\n    :Number of Instances: 5620\\n    :Number of Attributes: 64\\n    :Attribute Information: 8x8 image of integer pixels in the range 0..16.\\n    :Missing Attribute Values: None\\n    :Creator: E. Alpaydin (alpaydin '@' boun.edu.tr)\\n    :Date: July; 1998\\n\\nThis is a copy of the test set of the UCI ML hand-written digits datasets\\nhttps://archive.ics.uci.edu/ml/datasets/Optical+Recognition+of+Handwritten+Digits\\n\\nThe data set contains images of hand-written digits: 10 classes where\\neach class refers to a digit.\\n\\nPreprocessing programs made available by NIST were used to extract\\nnormalized bitmaps of handwritten digits from a preprinted form. From a\\ntotal of 43 people, 30 contributed to the training set and different 13\\nto the test set. 32x32 bitmaps are divided into nonoverlapping blocks of\\n4x4 and the number of on pixels are counted in each block. This generates\\nan input matrix of 8x8 where each element is an integer in the range\\n0..16. This reduces dimensionality and gives invariance to small\\ndistortions.\\n\\nFor info on NIST preprocessing routines, see M. D. Garris, J. L. Blue, G.\\nT. Candela, D. L. Dimmick, J. Geist, P. J. Grother, S. A. Janet, and C.\\nL. Wilson, NIST Form-Based Handprint Recognition System, NISTIR 5469,\\n1994.\\n\\n.. topic:: References\\n\\n  - C. Kaynak (1995) Methods of Combining Multiple Classifiers and Their\\n    Applications to Handwritten Digit Recognition, MSc Thesis, Institute of\\n    Graduate Studies in Science and Engineering, Bogazici University.\\n  - E. Alpaydin, C. Kaynak (1998) Cascading Classifiers, Kybernetika.\\n  - Ken Tang and Ponnuthurai N. Suganthan and Xi Yao and A. Kai Qin.\\n    Linear dimensionalityreduction using relevance weighted LDA. School of\\n    Electrical and Electronic Engineering Nanyang Technological University.\\n    2005.\\n  - Claudio Gentile. A New Approximate Maximal Margin Classification\\n    Algorithm. NIPS. 2000.\",\n",
              " 'data': array([[ 0.,  0.,  5., ...,  0.,  0.,  0.],\n",
              "        [ 0.,  0.,  0., ..., 10.,  0.,  0.],\n",
              "        [ 0.,  0.,  0., ..., 16.,  9.,  0.],\n",
              "        ...,\n",
              "        [ 0.,  0.,  1., ...,  6.,  0.,  0.],\n",
              "        [ 0.,  0.,  2., ..., 12.,  0.,  0.],\n",
              "        [ 0.,  0., 10., ..., 12.,  1.,  0.]]),\n",
              " 'images': array([[[ 0.,  0.,  5., ...,  1.,  0.,  0.],\n",
              "         [ 0.,  0., 13., ..., 15.,  5.,  0.],\n",
              "         [ 0.,  3., 15., ..., 11.,  8.,  0.],\n",
              "         ...,\n",
              "         [ 0.,  4., 11., ..., 12.,  7.,  0.],\n",
              "         [ 0.,  2., 14., ..., 12.,  0.,  0.],\n",
              "         [ 0.,  0.,  6., ...,  0.,  0.,  0.]],\n",
              " \n",
              "        [[ 0.,  0.,  0., ...,  5.,  0.,  0.],\n",
              "         [ 0.,  0.,  0., ...,  9.,  0.,  0.],\n",
              "         [ 0.,  0.,  3., ...,  6.,  0.,  0.],\n",
              "         ...,\n",
              "         [ 0.,  0.,  1., ...,  6.,  0.,  0.],\n",
              "         [ 0.,  0.,  1., ...,  6.,  0.,  0.],\n",
              "         [ 0.,  0.,  0., ..., 10.,  0.,  0.]],\n",
              " \n",
              "        [[ 0.,  0.,  0., ..., 12.,  0.,  0.],\n",
              "         [ 0.,  0.,  3., ..., 14.,  0.,  0.],\n",
              "         [ 0.,  0.,  8., ..., 16.,  0.,  0.],\n",
              "         ...,\n",
              "         [ 0.,  9., 16., ...,  0.,  0.,  0.],\n",
              "         [ 0.,  3., 13., ..., 11.,  5.,  0.],\n",
              "         [ 0.,  0.,  0., ..., 16.,  9.,  0.]],\n",
              " \n",
              "        ...,\n",
              " \n",
              "        [[ 0.,  0.,  1., ...,  1.,  0.,  0.],\n",
              "         [ 0.,  0., 13., ...,  2.,  1.,  0.],\n",
              "         [ 0.,  0., 16., ..., 16.,  5.,  0.],\n",
              "         ...,\n",
              "         [ 0.,  0., 16., ..., 15.,  0.,  0.],\n",
              "         [ 0.,  0., 15., ..., 16.,  0.,  0.],\n",
              "         [ 0.,  0.,  2., ...,  6.,  0.,  0.]],\n",
              " \n",
              "        [[ 0.,  0.,  2., ...,  0.,  0.,  0.],\n",
              "         [ 0.,  0., 14., ..., 15.,  1.,  0.],\n",
              "         [ 0.,  4., 16., ..., 16.,  7.,  0.],\n",
              "         ...,\n",
              "         [ 0.,  0.,  0., ..., 16.,  2.,  0.],\n",
              "         [ 0.,  0.,  4., ..., 16.,  2.,  0.],\n",
              "         [ 0.,  0.,  5., ..., 12.,  0.,  0.]],\n",
              " \n",
              "        [[ 0.,  0., 10., ...,  1.,  0.,  0.],\n",
              "         [ 0.,  2., 16., ...,  1.,  0.,  0.],\n",
              "         [ 0.,  0., 15., ..., 15.,  0.,  0.],\n",
              "         ...,\n",
              "         [ 0.,  4., 16., ..., 16.,  6.,  0.],\n",
              "         [ 0.,  8., 16., ..., 16.,  8.,  0.],\n",
              "         [ 0.,  1.,  8., ..., 12.,  1.,  0.]]]),\n",
              " 'target': array([0, 1, 2, ..., 8, 9, 8]),\n",
              " 'target_names': array([0, 1, 2, 3, 4, 5, 6, 7, 8, 9])}"
            ]
          },
          "metadata": {},
          "execution_count": 9
        }
      ]
    },
    {
      "cell_type": "code",
      "metadata": {
        "id": "m87tmppskFhZ",
        "colab": {
          "base_uri": "https://localhost:8080/"
        },
        "outputId": "5ff0e1f7-aed4-4a78-bf27-8a2c5fd57787"
      },
      "source": [
        "print(df.data)\n",
        "print(df.target)\n",
        "print(df.images)\n",
        "print(df.images.shape)\n",
        "dfImageLength=len(df.images)\n",
        "print(dfImageLength)"
      ],
      "execution_count": null,
      "outputs": [
        {
          "output_type": "stream",
          "name": "stdout",
          "text": [
            "[[ 0.  0.  5. ...  0.  0.  0.]\n",
            " [ 0.  0.  0. ... 10.  0.  0.]\n",
            " [ 0.  0.  0. ... 16.  9.  0.]\n",
            " ...\n",
            " [ 0.  0.  1. ...  6.  0.  0.]\n",
            " [ 0.  0.  2. ... 12.  0.  0.]\n",
            " [ 0.  0. 10. ... 12.  1.  0.]]\n",
            "[0 1 2 ... 8 9 8]\n",
            "[[[ 0.  0.  5. ...  1.  0.  0.]\n",
            "  [ 0.  0. 13. ... 15.  5.  0.]\n",
            "  [ 0.  3. 15. ... 11.  8.  0.]\n",
            "  ...\n",
            "  [ 0.  4. 11. ... 12.  7.  0.]\n",
            "  [ 0.  2. 14. ... 12.  0.  0.]\n",
            "  [ 0.  0.  6. ...  0.  0.  0.]]\n",
            "\n",
            " [[ 0.  0.  0. ...  5.  0.  0.]\n",
            "  [ 0.  0.  0. ...  9.  0.  0.]\n",
            "  [ 0.  0.  3. ...  6.  0.  0.]\n",
            "  ...\n",
            "  [ 0.  0.  1. ...  6.  0.  0.]\n",
            "  [ 0.  0.  1. ...  6.  0.  0.]\n",
            "  [ 0.  0.  0. ... 10.  0.  0.]]\n",
            "\n",
            " [[ 0.  0.  0. ... 12.  0.  0.]\n",
            "  [ 0.  0.  3. ... 14.  0.  0.]\n",
            "  [ 0.  0.  8. ... 16.  0.  0.]\n",
            "  ...\n",
            "  [ 0.  9. 16. ...  0.  0.  0.]\n",
            "  [ 0.  3. 13. ... 11.  5.  0.]\n",
            "  [ 0.  0.  0. ... 16.  9.  0.]]\n",
            "\n",
            " ...\n",
            "\n",
            " [[ 0.  0.  1. ...  1.  0.  0.]\n",
            "  [ 0.  0. 13. ...  2.  1.  0.]\n",
            "  [ 0.  0. 16. ... 16.  5.  0.]\n",
            "  ...\n",
            "  [ 0.  0. 16. ... 15.  0.  0.]\n",
            "  [ 0.  0. 15. ... 16.  0.  0.]\n",
            "  [ 0.  0.  2. ...  6.  0.  0.]]\n",
            "\n",
            " [[ 0.  0.  2. ...  0.  0.  0.]\n",
            "  [ 0.  0. 14. ... 15.  1.  0.]\n",
            "  [ 0.  4. 16. ... 16.  7.  0.]\n",
            "  ...\n",
            "  [ 0.  0.  0. ... 16.  2.  0.]\n",
            "  [ 0.  0.  4. ... 16.  2.  0.]\n",
            "  [ 0.  0.  5. ... 12.  0.  0.]]\n",
            "\n",
            " [[ 0.  0. 10. ...  1.  0.  0.]\n",
            "  [ 0.  2. 16. ...  1.  0.  0.]\n",
            "  [ 0.  0. 15. ... 15.  0.  0.]\n",
            "  ...\n",
            "  [ 0.  4. 16. ... 16.  6.  0.]\n",
            "  [ 0.  8. 16. ... 16.  8.  0.]\n",
            "  [ 0.  1.  8. ... 12.  1.  0.]]]\n",
            "(1797, 8, 8)\n",
            "1797\n"
          ]
        }
      ]
    },
    {
      "cell_type": "code",
      "metadata": {
        "id": "IaEsyySukFex",
        "colab": {
          "base_uri": "https://localhost:8080/",
          "height": 431
        },
        "outputId": "c8342d71-4e18-4147-80ce-2016e8726798"
      },
      "source": [
        "n=999\n",
        "plt.gray()\n",
        "plt.matshow(df.images[n])\n",
        "plt.show()\n",
        "\n",
        "print(df.images[n])"
      ],
      "execution_count": null,
      "outputs": [
        {
          "output_type": "display_data",
          "data": {
            "text/plain": [
              "<Figure size 432x288 with 0 Axes>"
            ]
          },
          "metadata": {}
        },
        {
          "output_type": "display_data",
          "data": {
            "image/png": "[encoded data removed]",
            "text/plain": [
              "<Figure size 288x288 with 1 Axes>"
            ]
          },
          "metadata": {
            "needs_background": "light"
          }
        },
        {
          "output_type": "stream",
          "name": "stdout",
          "text": [
            "[[ 0.  0.  9. 15. 14.  2.  0.  0.]\n",
            " [ 0.  0.  9.  3.  9.  8.  0.  0.]\n",
            " [ 0.  0.  0.  0.  6. 10.  0.  0.]\n",
            " [ 0.  0.  0. 10. 15.  2.  0.  0.]\n",
            " [ 0.  0.  2. 10. 11. 15.  2.  0.]\n",
            " [ 0.  3.  1.  0.  0. 14.  4.  0.]\n",
            " [ 0. 10. 13.  7.  2. 12.  4.  0.]\n",
            " [ 0.  0.  7. 14. 16. 10.  0.  0.]]\n"
          ]
        }
      ]
    },
    {
      "cell_type": "code",
      "metadata": {
        "colab": {
          "base_uri": "https://localhost:8080/"
        },
        "id": "VVVYaYxSDn1G",
        "outputId": "ba7d154e-7665-4327-c6f7-663baf0ea00e"
      },
      "source": [
        "X=df.images.reshape(dfImageLength,-1)\n",
        "X"
      ],
      "execution_count": null,
      "outputs": [
        {
          "output_type": "execute_result",
          "data": {
            "text/plain": [
              "array([[ 0.,  0.,  5., ...,  0.,  0.,  0.],\n",
              "       [ 0.,  0.,  0., ..., 10.,  0.,  0.],\n",
              "       [ 0.,  0.,  0., ..., 16.,  9.,  0.],\n",
              "       ...,\n",
              "       [ 0.,  0.,  1., ...,  6.,  0.,  0.],\n",
              "       [ 0.,  0.,  2., ..., 12.,  0.,  0.],\n",
              "       [ 0.,  0., 10., ..., 12.,  1.,  0.]])"
            ]
          },
          "metadata": {},
          "execution_count": 22
        }
      ]
    },
    {
      "cell_type": "code",
      "metadata": {
        "colab": {
          "base_uri": "https://localhost:8080/"
        },
        "id": "P62DRjf-Dnxs",
        "outputId": "d99b17a5-4664-4d15-9658-379ae3b741ef"
      },
      "source": [
        "Y=df.target\n",
        "Y"
      ],
      "execution_count": null,
      "outputs": [
        {
          "output_type": "execute_result",
          "data": {
            "text/plain": [
              "array([0, 1, 2, ..., 8, 9, 8])"
            ]
          },
          "metadata": {},
          "execution_count": 28
        }
      ]
    },
    {
      "cell_type": "code",
      "metadata": {
        "colab": {
          "base_uri": "https://localhost:8080/"
        },
        "id": "7_TqEVnRDnvg",
        "outputId": "527ba612-537b-4267-e5e7-e29f3fadcf09"
      },
      "source": [
        "from sklearn.model_selection import train_test_split\n",
        "X_train, X_test, Y_train, Y_test=train_test_split(X,Y, test_size=0.25, random_state=0)\n",
        "print(X_train.shape)\n",
        "print(Y_train.shape)"
      ],
      "execution_count": null,
      "outputs": [
        {
          "output_type": "stream",
          "name": "stdout",
          "text": [
            "(1347, 64)\n",
            "(1347,)\n"
          ]
        }
      ]
    },
    {
      "cell_type": "code",
      "metadata": {
        "colab": {
          "base_uri": "https://localhost:8080/"
        },
        "id": "vwP2hUqKDntB",
        "outputId": "9d319949-8770-4353-9349-1d569668ce01"
      },
      "source": [
        "from sklearn.svm import SVC\n",
        "svcModel=SVC(kernel='linear')\n",
        "svcModel.fit(X_train, Y_train)"
      ],
      "execution_count": null,
      "outputs": [
        {
          "output_type": "execute_result",
          "data": {
            "text/plain": [
              "SVC(C=1.0, break_ties=False, cache_size=200, class_weight=None, coef0=0.0,\n",
              "    decision_function_shape='ovr', degree=3, gamma='scale', kernel='linear',\n",
              "    max_iter=-1, probability=False, random_state=None, shrinking=True,\n",
              "    tol=0.001, verbose=False)"
            ]
          },
          "metadata": {},
          "execution_count": 30
        }
      ]
    },
    {
      "cell_type": "code",
      "metadata": {
        "id": "vkCXPS59kFbv",
        "colab": {
          "base_uri": "https://localhost:8080/",
          "height": 317
        },
        "outputId": "7487043b-d476-4c89-eff6-f58bf2a7d2c8"
      },
      "source": [
        "n=243\n",
        "result=svcModel.predict(df.images[n].reshape((1,-1)))\n",
        "plt.imshow(df.images[n], cmap=plt.cm.gray_r, interpolation='nearest')\n",
        "print(result)\n",
        "print(\"\\n\")\n",
        "plt.axis('off')\n",
        "print('%i' %result)\n",
        "plt.show()"
      ],
      "execution_count": null,
      "outputs": [
        {
          "output_type": "stream",
          "name": "stdout",
          "text": [
            "[2]\n",
            "\n",
            "\n",
            "2\n"
          ]
        },
        {
          "output_type": "display_data",
          "data": {
            "image/png": "[encoded data removed]",
            "text/plain": [
              "<Figure size 432x288 with 1 Axes>"
            ]
          },
          "metadata": {
            "needs_background": "light"
          }
        }
      ]
    },
    {
      "cell_type": "code",
      "metadata": {
        "colab": {
          "base_uri": "https://localhost:8080/"
        },
        "id": "qslMe6L_HOq-",
        "outputId": "b4e7eb70-975e-4d5e-e4fd-defcdc91193f"
      },
      "source": [
        "Y_pred=svcModel.predict(X_test)\n",
        "print(np.concatenate((Y_pred.reshape(len(Y_pred),1),Y_test.reshape(len(Y_test),1)),1))"
      ],
      "execution_count": null,
      "outputs": [
        {
          "output_type": "stream",
          "name": "stdout",
          "text": [
            "[[2 2]\n",
            " [8 8]\n",
            " [2 2]\n",
            " [6 6]\n",
            " [6 6]\n",
            " [7 7]\n",
            " [1 1]\n",
            " [9 9]\n",
            " [8 8]\n",
            " [5 5]\n",
            " [2 2]\n",
            " [8 8]\n",
            " [6 6]\n",
            " [6 6]\n",
            " [6 6]\n",
            " [6 6]\n",
            " [1 1]\n",
            " [0 0]\n",
            " [5 5]\n",
            " [8 8]\n",
            " [8 8]\n",
            " [7 7]\n",
            " [8 8]\n",
            " [4 4]\n",
            " [7 7]\n",
            " [5 5]\n",
            " [4 4]\n",
            " [9 9]\n",
            " [2 2]\n",
            " [9 9]\n",
            " [4 4]\n",
            " [7 7]\n",
            " [6 6]\n",
            " [8 8]\n",
            " [9 9]\n",
            " [4 4]\n",
            " [3 3]\n",
            " [1 1]\n",
            " [0 0]\n",
            " [1 1]\n",
            " [8 8]\n",
            " [6 6]\n",
            " [7 7]\n",
            " [7 7]\n",
            " [1 1]\n",
            " [0 0]\n",
            " [7 7]\n",
            " [6 6]\n",
            " [2 2]\n",
            " [1 1]\n",
            " [9 9]\n",
            " [6 6]\n",
            " [7 7]\n",
            " [9 9]\n",
            " [0 0]\n",
            " [0 0]\n",
            " [5 5]\n",
            " [1 1]\n",
            " [6 6]\n",
            " [3 3]\n",
            " [0 0]\n",
            " [2 2]\n",
            " [3 3]\n",
            " [4 4]\n",
            " [1 1]\n",
            " [9 9]\n",
            " [2 2]\n",
            " [6 6]\n",
            " [9 9]\n",
            " [1 1]\n",
            " [8 8]\n",
            " [3 3]\n",
            " [5 5]\n",
            " [1 1]\n",
            " [2 2]\n",
            " [8 8]\n",
            " [2 2]\n",
            " [2 2]\n",
            " [9 9]\n",
            " [7 7]\n",
            " [2 2]\n",
            " [3 3]\n",
            " [6 6]\n",
            " [0 0]\n",
            " [5 5]\n",
            " [3 3]\n",
            " [7 7]\n",
            " [5 5]\n",
            " [1 1]\n",
            " [2 2]\n",
            " [9 9]\n",
            " [9 9]\n",
            " [3 3]\n",
            " [1 1]\n",
            " [7 7]\n",
            " [7 7]\n",
            " [4 4]\n",
            " [8 8]\n",
            " [5 5]\n",
            " [8 8]\n",
            " [5 5]\n",
            " [5 5]\n",
            " [2 2]\n",
            " [5 5]\n",
            " [9 9]\n",
            " [0 0]\n",
            " [7 7]\n",
            " [1 1]\n",
            " [4 4]\n",
            " [4 7]\n",
            " [3 3]\n",
            " [4 4]\n",
            " [8 8]\n",
            " [9 9]\n",
            " [7 7]\n",
            " [9 9]\n",
            " [8 8]\n",
            " [2 2]\n",
            " [1 6]\n",
            " [5 5]\n",
            " [2 2]\n",
            " [5 5]\n",
            " [8 8]\n",
            " [4 4]\n",
            " [1 8]\n",
            " [7 7]\n",
            " [0 0]\n",
            " [6 6]\n",
            " [1 1]\n",
            " [5 5]\n",
            " [5 9]\n",
            " [9 9]\n",
            " [9 9]\n",
            " [5 5]\n",
            " [9 9]\n",
            " [9 9]\n",
            " [5 5]\n",
            " [7 7]\n",
            " [5 5]\n",
            " [6 6]\n",
            " [2 2]\n",
            " [8 8]\n",
            " [6 6]\n",
            " [9 9]\n",
            " [6 6]\n",
            " [1 1]\n",
            " [5 5]\n",
            " [1 1]\n",
            " [5 5]\n",
            " [9 9]\n",
            " [9 9]\n",
            " [1 1]\n",
            " [5 5]\n",
            " [3 3]\n",
            " [6 6]\n",
            " [1 1]\n",
            " [8 8]\n",
            " [9 9]\n",
            " [8 8]\n",
            " [7 7]\n",
            " [6 6]\n",
            " [7 7]\n",
            " [6 6]\n",
            " [5 5]\n",
            " [6 6]\n",
            " [0 0]\n",
            " [8 8]\n",
            " [8 8]\n",
            " [9 9]\n",
            " [8 8]\n",
            " [6 6]\n",
            " [1 1]\n",
            " [0 0]\n",
            " [4 4]\n",
            " [1 1]\n",
            " [6 6]\n",
            " [3 3]\n",
            " [8 8]\n",
            " [6 6]\n",
            " [7 7]\n",
            " [4 4]\n",
            " [9 5]\n",
            " [6 6]\n",
            " [3 3]\n",
            " [0 0]\n",
            " [3 3]\n",
            " [3 3]\n",
            " [3 3]\n",
            " [0 0]\n",
            " [7 7]\n",
            " [7 7]\n",
            " [5 5]\n",
            " [7 7]\n",
            " [8 8]\n",
            " [0 0]\n",
            " [7 7]\n",
            " [1 8]\n",
            " [9 9]\n",
            " [6 6]\n",
            " [4 4]\n",
            " [5 5]\n",
            " [0 0]\n",
            " [1 1]\n",
            " [4 4]\n",
            " [6 6]\n",
            " [4 4]\n",
            " [3 3]\n",
            " [3 3]\n",
            " [0 0]\n",
            " [9 9]\n",
            " [5 5]\n",
            " [3 9]\n",
            " [2 2]\n",
            " [1 1]\n",
            " [4 4]\n",
            " [2 2]\n",
            " [1 1]\n",
            " [6 6]\n",
            " [8 8]\n",
            " [9 9]\n",
            " [2 2]\n",
            " [4 4]\n",
            " [9 9]\n",
            " [3 3]\n",
            " [7 7]\n",
            " [6 6]\n",
            " [2 2]\n",
            " [3 3]\n",
            " [3 3]\n",
            " [1 1]\n",
            " [6 6]\n",
            " [9 9]\n",
            " [3 3]\n",
            " [6 6]\n",
            " [3 3]\n",
            " [2 2]\n",
            " [2 2]\n",
            " [0 0]\n",
            " [7 7]\n",
            " [6 6]\n",
            " [1 1]\n",
            " [1 1]\n",
            " [9 9]\n",
            " [7 7]\n",
            " [2 2]\n",
            " [7 7]\n",
            " [8 8]\n",
            " [5 5]\n",
            " [5 5]\n",
            " [7 7]\n",
            " [5 5]\n",
            " [2 2]\n",
            " [3 3]\n",
            " [7 7]\n",
            " [2 2]\n",
            " [7 7]\n",
            " [5 5]\n",
            " [5 5]\n",
            " [7 7]\n",
            " [0 0]\n",
            " [9 9]\n",
            " [1 1]\n",
            " [6 6]\n",
            " [5 5]\n",
            " [9 9]\n",
            " [7 7]\n",
            " [4 4]\n",
            " [3 3]\n",
            " [8 8]\n",
            " [0 0]\n",
            " [3 3]\n",
            " [6 6]\n",
            " [4 4]\n",
            " [6 6]\n",
            " [3 3]\n",
            " [2 2]\n",
            " [6 6]\n",
            " [8 8]\n",
            " [8 8]\n",
            " [8 8]\n",
            " [4 4]\n",
            " [6 6]\n",
            " [7 7]\n",
            " [5 5]\n",
            " [2 2]\n",
            " [4 4]\n",
            " [5 5]\n",
            " [3 3]\n",
            " [2 2]\n",
            " [4 4]\n",
            " [6 6]\n",
            " [9 9]\n",
            " [4 4]\n",
            " [5 5]\n",
            " [4 4]\n",
            " [3 3]\n",
            " [4 4]\n",
            " [6 6]\n",
            " [2 2]\n",
            " [9 9]\n",
            " [0 0]\n",
            " [1 1]\n",
            " [7 7]\n",
            " [2 2]\n",
            " [0 0]\n",
            " [9 9]\n",
            " [6 6]\n",
            " [0 0]\n",
            " [4 4]\n",
            " [2 2]\n",
            " [0 0]\n",
            " [7 7]\n",
            " [9 9]\n",
            " [8 8]\n",
            " [5 5]\n",
            " [4 4]\n",
            " [8 8]\n",
            " [2 2]\n",
            " [8 8]\n",
            " [4 4]\n",
            " [3 3]\n",
            " [7 7]\n",
            " [2 2]\n",
            " [6 6]\n",
            " [9 9]\n",
            " [1 1]\n",
            " [5 5]\n",
            " [1 1]\n",
            " [0 0]\n",
            " [8 8]\n",
            " [2 2]\n",
            " [8 1]\n",
            " [9 9]\n",
            " [5 5]\n",
            " [6 6]\n",
            " [2 8]\n",
            " [2 2]\n",
            " [7 7]\n",
            " [2 2]\n",
            " [1 1]\n",
            " [5 5]\n",
            " [1 1]\n",
            " [6 6]\n",
            " [4 4]\n",
            " [5 5]\n",
            " [0 0]\n",
            " [9 9]\n",
            " [4 4]\n",
            " [1 1]\n",
            " [1 1]\n",
            " [7 7]\n",
            " [0 0]\n",
            " [8 8]\n",
            " [9 9]\n",
            " [0 0]\n",
            " [5 5]\n",
            " [4 4]\n",
            " [3 3]\n",
            " [8 8]\n",
            " [8 8]\n",
            " [6 6]\n",
            " [5 5]\n",
            " [3 3]\n",
            " [4 4]\n",
            " [4 4]\n",
            " [4 4]\n",
            " [8 8]\n",
            " [8 8]\n",
            " [7 7]\n",
            " [0 0]\n",
            " [9 9]\n",
            " [6 6]\n",
            " [3 3]\n",
            " [5 5]\n",
            " [2 2]\n",
            " [3 3]\n",
            " [0 0]\n",
            " [8 8]\n",
            " [8 3]\n",
            " [3 3]\n",
            " [1 1]\n",
            " [3 3]\n",
            " [3 3]\n",
            " [0 0]\n",
            " [0 0]\n",
            " [4 4]\n",
            " [6 6]\n",
            " [0 0]\n",
            " [7 7]\n",
            " [7 7]\n",
            " [6 6]\n",
            " [2 2]\n",
            " [0 0]\n",
            " [4 4]\n",
            " [4 4]\n",
            " [2 2]\n",
            " [3 3]\n",
            " [7 7]\n",
            " [1 8]\n",
            " [9 9]\n",
            " [8 8]\n",
            " [6 6]\n",
            " [8 8]\n",
            " [5 5]\n",
            " [6 6]\n",
            " [2 2]\n",
            " [2 2]\n",
            " [3 3]\n",
            " [1 1]\n",
            " [7 7]\n",
            " [7 7]\n",
            " [8 8]\n",
            " [0 0]\n",
            " [3 3]\n",
            " [3 3]\n",
            " [2 2]\n",
            " [1 1]\n",
            " [5 5]\n",
            " [5 5]\n",
            " [9 9]\n",
            " [1 1]\n",
            " [3 3]\n",
            " [7 7]\n",
            " [0 0]\n",
            " [0 0]\n",
            " [7 7]\n",
            " [0 0]\n",
            " [4 4]\n",
            " [5 5]\n",
            " [8 9]\n",
            " [9 3]\n",
            " [3 3]\n",
            " [4 4]\n",
            " [3 3]\n",
            " [1 1]\n",
            " [8 8]\n",
            " [9 9]\n",
            " [8 8]\n",
            " [3 3]\n",
            " [6 6]\n",
            " [2 2]\n",
            " [1 1]\n",
            " [6 6]\n",
            " [2 2]\n",
            " [1 1]\n",
            " [7 7]\n",
            " [5 5]\n",
            " [5 5]\n",
            " [1 1]\n",
            " [9 9]]\n"
          ]
        }
      ]
    },
    {
      "cell_type": "code",
      "metadata": {
        "colab": {
          "base_uri": "https://localhost:8080/"
        },
        "id": "Q417lAPwHOnp",
        "outputId": "b00b4f7a-b957-489a-8bd2-76ba8dba5fad"
      },
      "source": [
        "from sklearn.metrics import confusion_matrix, accuracy_score \n",
        "cm=confusion_matrix(Y_pred, Y_test)\n",
        "print('Confusion Matrix')\n",
        "print(cm)\n",
        "print('Accuracy of the model')\n",
        "print(accuracy_score(Y_pred,Y_test)*100)"
      ],
      "execution_count": null,
      "outputs": [
        {
          "output_type": "stream",
          "name": "stdout",
          "text": [
            "Confusion Matrix\n",
            "[[37  0  0  0  0  0  0  0  0  0]\n",
            " [ 0 42  0  0  0  0  1  0  3  0]\n",
            " [ 0  0 44  0  0  0  0  0  1  0]\n",
            " [ 0  0  0 43  0  0  0  0  0  1]\n",
            " [ 0  0  0  0 38  0  0  1  0  0]\n",
            " [ 0  0  0  0  0 47  0  0  0  1]\n",
            " [ 0  0  0  0  0  0 51  0  0  0]\n",
            " [ 0  0  0  0  0  0  0 47  0  0]\n",
            " [ 0  1  0  1  0  0  0  0 44  1]\n",
            " [ 0  0  0  1  0  1  0  0  0 44]]\n",
            "Accuracy of the model\n",
            "97.11111111111111\n"
          ]
        }
      ]
    },
    {
      "cell_type": "code",
      "metadata": {
        "colab": {
          "base_uri": "https://localhost:8080/"
        },
        "id": "L8O80BpRHOlD",
        "outputId": "cf87db2a-4d0e-4cb2-f07f-4969608d4107"
      },
      "source": [
        "model1=SVC(kernel='rbf')\n",
        "model2=SVC(gamma='auto')\n",
        "model3=SVC(gamma=0.001)\n",
        "model1.fit(X_train, Y_train)\n",
        "model2.fit(X_train, Y_train)\n",
        "model3.fit(X_train, Y_train)\n",
        "\n",
        "pred1=model1.predict(X_test)\n",
        "pred2=model2.predict(X_test)\n",
        "pred3=model3.predict(X_test)\n",
        "print('Accuracy of linear kernel {}'.format(accuracy_score(Y_pred,Y_test)*100))\n",
        "print('Accuracy of rbf kernel {}'.format(accuracy_score(pred1,Y_test)*100))\n",
        "print('Accuracy of rbf kernel, gamma as auto {}'.format(accuracy_score(pred2,Y_test)*100))\n",
        "print('Accuracy of rbf kernel, gamma as 0.001 {}'.format(accuracy_score(pred3,Y_test)*100))\n"
      ],
      "execution_count": null,
      "outputs": [
        {
          "output_type": "stream",
          "name": "stdout",
          "text": [
            "Accuracy of linear kernel 97.11111111111111\n",
            "Accuracy of rbf kernel 99.11111111111111\n",
            "Accuracy of rbf kernel, gamma as auto 48.66666666666667\n",
            "Accuracy of rbf kernel, gamma as 0.001 99.55555555555556\n"
          ]
        }
      ]
    },
    {
      "cell_type": "code",
      "metadata": {
        "id": "0H4ISOvMHOii"
      },
      "source": [
        ""
      ],
      "execution_count": null,
      "outputs": []
    },
    {
      "cell_type": "code",
      "metadata": {
        "id": "kgVvD0bUBuVt"
      },
      "source": [
        ""
      ],
      "execution_count": null,
      "outputs": []
    },
    {
      "cell_type": "code",
      "metadata": {
        "id": "0W_CWSCYBuST"
      },
      "source": [
        ""
      ],
      "execution_count": null,
      "outputs": []
    }
  ]
}